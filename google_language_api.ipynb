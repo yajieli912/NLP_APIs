{
 "cells": [
  {
   "cell_type": "markdown",
   "metadata": {},
   "source": [
    "### Connect to GCP Natural Language API to do text sentiment analysis"
   ]
  },
  {
   "cell_type": "markdown",
   "metadata": {},
   "source": [
    "#### A few things to do before running the code:\n",
    "1. In GCP Console, navigate to the Create service account key page.\n",
    "2. From the Service account dropdown, select New service account.\n",
    "3. Input a name into the form field.\n",
    "4. From the Role dropdown, select Project > Owner.\n",
    "5. Click the Create button. A JSON file that contains your key downloads to your computer.\n",
    "6. Run this in terminal: export GOOGLE_APPLICATION_CREDENTIALS=\"[PATH]\""
   ]
  },
  {
   "cell_type": "code",
   "execution_count": 1,
   "metadata": {
    "collapsed": true
   },
   "outputs": [],
   "source": [
    "#!pip install google.cloud"
   ]
  },
  {
   "cell_type": "code",
   "execution_count": 2,
   "metadata": {
    "collapsed": true
   },
   "outputs": [],
   "source": [
    "# Imports the Google Cloud client library\n",
    "from google.cloud import language\n",
    "from google.cloud.language import enums\n",
    "from google.cloud.language import types"
   ]
  },
  {
   "cell_type": "code",
   "execution_count": 3,
   "metadata": {},
   "outputs": [
    {
     "name": "stdout",
     "output_type": "stream",
     "text": [
      "Score: 0.8999999761581421\n",
      "Magnitude: 0.8999999761581421\n"
     ]
    }
   ],
   "source": [
    "text = \"Kirkland purified water has minerals added, so it tastes good.\"\n",
    "client = language.LanguageServiceClient()\n",
    "document = types.Document(\n",
    "        content=text,\n",
    "        type=enums.Document.Type.PLAIN_TEXT)\n",
    "sentiment = client.analyze_sentiment(document).document_sentiment\n",
    "print('Score: {}'.format(sentiment.score))\n",
    "print('Magnitude: {}'.format(sentiment.magnitude))"
   ]
  },
  {
   "cell_type": "code",
   "execution_count": 5,
   "metadata": {},
   "outputs": [
    {
     "data": {
      "text/plain": [
       "[name: \"water\"\n",
       "type: OTHER\n",
       "salience: 0.5422991514205933\n",
       "mentions {\n",
       "  text {\n",
       "    content: \"water\"\n",
       "    begin_offset: -1\n",
       "  }\n",
       "  type: COMMON\n",
       "}\n",
       ", name: \"Kirkland\"\n",
       "type: PERSON\n",
       "salience: 0.3064359128475189\n",
       "mentions {\n",
       "  text {\n",
       "    content: \"Kirkland\"\n",
       "    begin_offset: -1\n",
       "  }\n",
       "  type: PROPER\n",
       "}\n",
       ", name: \"minerals\"\n",
       "type: OTHER\n",
       "salience: 0.151264950633049\n",
       "mentions {\n",
       "  text {\n",
       "    content: \"minerals\"\n",
       "    begin_offset: -1\n",
       "  }\n",
       "  type: COMMON\n",
       "}\n",
       "]"
      ]
     },
     "execution_count": 5,
     "metadata": {},
     "output_type": "execute_result"
    }
   ],
   "source": [
    "entities = client.analyze_entities(document).entities\n",
    "entities"
   ]
  },
  {
   "cell_type": "markdown",
   "metadata": {
    "collapsed": true
   },
   "source": [
    "#### With the random sentence I wrote, it seems the API can figure out sentiment positive probably because I wrote word \"good\"."
   ]
  },
  {
   "cell_type": "code",
   "execution_count": null,
   "metadata": {
    "collapsed": true
   },
   "outputs": [],
   "source": []
  }
 ],
 "metadata": {
  "kernelspec": {
   "display_name": "Python 3",
   "language": "python",
   "name": "python3"
  },
  "language_info": {
   "codemirror_mode": {
    "name": "ipython",
    "version": 3
   },
   "file_extension": ".py",
   "mimetype": "text/x-python",
   "name": "python",
   "nbconvert_exporter": "python",
   "pygments_lexer": "ipython3",
   "version": "3.6.1"
  }
 },
 "nbformat": 4,
 "nbformat_minor": 2
}
